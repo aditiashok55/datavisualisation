{
 "cells": [
  {
   "cell_type": "code",
   "execution_count": 7,
   "metadata": {},
   "outputs": [
    {
     "name": "stdout",
     "output_type": "stream",
     "text": [
      "Mean:  21.317730618422253\n",
      "Median:  0.4296391606330871\n",
      "Mode:  0.0852759033441543\n",
      "Standard Deviation:  45.18749651974093\n"
     ]
    }
   ],
   "source": [
    "import pandas as pd\n",
    "import numpy as np\n",
    "from collections import Counter\n",
    "\n",
    "df = pd.read_csv('AAPL.csv')\n",
    "\n",
    "#choosing close col\n",
    "close_prices = df['Close']\n",
    "\n",
    "mean = np.mean(close_prices)\n",
    "median = np.median(close_prices)\n",
    "mode_data = Counter(close_prices)\n",
    "mode = mode_data.most_common(1)[0][0]\n",
    "\n",
    "std_dev = np.std(close_prices)\n",
    "\n",
    "print('Mean: ',mean)\n",
    "print('Median: ',median)\n",
    "print('Mode: ',mode)\n",
    "print('Standard Deviation: ',std_dev)\n"
   ]
  },
  {
   "cell_type": "code",
   "execution_count": 6,
   "metadata": {},
   "outputs": [
    {
     "name": "stdout",
     "output_type": "stream",
     "text": [
      "Mean:  21.302670824531234\n",
      "Median:  0.430761270301473\n",
      "Mode:  0.0525434724986553\n",
      "Standard Deviation:  45.14661511687005\n"
     ]
    }
   ],
   "source": [
    "import numpy as np\n",
    "\n",
    "# Assuming df['likes'], df['comments'], df['shares'], and df['views'] are numerical arrays\n",
    "likes = df['likes'].to_numpy()\n",
    "comments = df['comments'].to_numpy()\n",
    "shares = df['shares'].to_numpy()\n",
    "views = df['views'].to_numpy()\n",
    "\n",
    "# Basic NumPy Operations\n",
    "# Indexing\n",
    "first_like = likes[0]\n",
    "\n",
    "# Slicing\n",
    "likes_slice = likes[10:20]\n",
    "\n",
    "# Splitting\n",
    "likes_split = np.array_split(likes, 5)\n",
    "\n",
    "# Iterating\n",
    "for like in likes:\n",
    "    print(like)\n",
    "\n",
    "# Advanced NumPy Operations\n",
    "# Filtering (likes > 100)\n",
    "filtered_likes = likes[likes > 100]\n",
    "\n",
    "# Sorting\n",
    "sorted_likes = np.sort(likes)\n",
    "\n",
    "# Combining (likes and comments)\n",
    "combined = np.concatenate((likes, comments))\n",
    "\n",
    "# Reshaping (if you want to reshape to a 2D array)\n",
    "reshaped_likes = likes.reshape(-1, 1)  # reshapes to a column vector\n"
   ]
  },
  {
   "cell_type": "code",
   "execution_count": 25,
   "metadata": {},
   "outputs": [
    {
     "name": "stdout",
     "output_type": "stream",
     "text": [
      "101\n",
      "[]\n",
      "[array([101]), array([102]), array([103]), array([104]), array([105])]\n",
      "101\n",
      "102\n",
      "103\n",
      "104\n",
      "105\n",
      "[101 102 103 104 105]\n",
      "[101 102 103 104 105]\n",
      "[101 102 103 104 105   1   2   3   4   5]\n",
      "[[101]\n",
      " [102]\n",
      " [103]\n",
      " [104]\n",
      " [105]]\n"
     ]
    }
   ],
   "source": [
    "import numpy as np\n",
    "\n",
    "import numpy as np\n",
    "\n",
    "# Load TikTok video performance data using genfromtxt with specific dtype\n",
    "data = np.genfromtxt('tiktok_performance.csv', delimiter=',', skip_header=1, \n",
    "                     dtype=[('Likes', 'i4'), ('Comments', 'i4'), ('Shares', 'i4'), ('Views', 'i4')],\n",
    "                     filling_values=0,  # Fill missing values with 0\n",
    "                     encoding='utf-8')\n",
    "\n",
    "# Extracting specific columns\n",
    "likes = data['Likes']\n",
    "comments = data['Comments']\n",
    "\n",
    "# Continue with your NumPy operations...\n",
    "\n",
    "\n",
    "# Basic NumPy Operations\n",
    "# Indexing\n",
    "first_like = likes[0]\n",
    "print(first_like)\n",
    "# Slicing\n",
    "likes_slice = likes[10:20]\n",
    "print(likes_slice)\n",
    "# Splitting\n",
    "likes_split = np.array_split(likes, 5)\n",
    "print(likes_split)\n",
    "# Iterating\n",
    "for like in likes:\n",
    "    print(like)\n",
    "\n",
    "# Advanced NumPy Operations\n",
    "# Filtering (likes > 100)\n",
    "filtered_likes = likes[likes > 100]\n",
    "print(filtered_likes)\n",
    "# Sorting\n",
    "sorted_likes = np.sort(likes)\n",
    "print(sorted_likes)\n",
    "# Combining (likes and comments)\n",
    "combined = np.concatenate((likes, comments))\n",
    "print(combined)\n",
    "# Reshaping (if you want to reshape to a 2D array)\n",
    "reshaped_likes = likes.reshape(-1, 1)  # reshapes to a column vector\n",
    "print(reshaped_likes)\n"
   ]
  },
  {
   "cell_type": "code",
   "execution_count": 27,
   "metadata": {},
   "outputs": [
    {
     "ename": "KeyError",
     "evalue": "'Video_ID'",
     "output_type": "error",
     "traceback": [
      "\u001b[1;31m---------------------------------------------------------------------------\u001b[0m",
      "\u001b[1;31mKeyError\u001b[0m                                  Traceback (most recent call last)",
      "File \u001b[1;32m~\\AppData\\Roaming\\Python\\Python312\\site-packages\\pandas\\core\\indexes\\base.py:3805\u001b[0m, in \u001b[0;36mIndex.get_loc\u001b[1;34m(self, key)\u001b[0m\n\u001b[0;32m   3804\u001b[0m \u001b[38;5;28;01mtry\u001b[39;00m:\n\u001b[1;32m-> 3805\u001b[0m     \u001b[38;5;28;01mreturn\u001b[39;00m \u001b[38;5;28;43mself\u001b[39;49m\u001b[38;5;241;43m.\u001b[39;49m\u001b[43m_engine\u001b[49m\u001b[38;5;241;43m.\u001b[39;49m\u001b[43mget_loc\u001b[49m\u001b[43m(\u001b[49m\u001b[43mcasted_key\u001b[49m\u001b[43m)\u001b[49m\n\u001b[0;32m   3806\u001b[0m \u001b[38;5;28;01mexcept\u001b[39;00m \u001b[38;5;167;01mKeyError\u001b[39;00m \u001b[38;5;28;01mas\u001b[39;00m err:\n",
      "File \u001b[1;32mindex.pyx:167\u001b[0m, in \u001b[0;36mpandas._libs.index.IndexEngine.get_loc\u001b[1;34m()\u001b[0m\n",
      "File \u001b[1;32mindex.pyx:196\u001b[0m, in \u001b[0;36mpandas._libs.index.IndexEngine.get_loc\u001b[1;34m()\u001b[0m\n",
      "File \u001b[1;32mpandas\\\\_libs\\\\hashtable_class_helper.pxi:7081\u001b[0m, in \u001b[0;36mpandas._libs.hashtable.PyObjectHashTable.get_item\u001b[1;34m()\u001b[0m\n",
      "File \u001b[1;32mpandas\\\\_libs\\\\hashtable_class_helper.pxi:7089\u001b[0m, in \u001b[0;36mpandas._libs.hashtable.PyObjectHashTable.get_item\u001b[1;34m()\u001b[0m\n",
      "\u001b[1;31mKeyError\u001b[0m: 'Video_ID'",
      "\nThe above exception was the direct cause of the following exception:\n",
      "\u001b[1;31mKeyError\u001b[0m                                  Traceback (most recent call last)",
      "Cell \u001b[1;32mIn[27], line 12\u001b[0m\n\u001b[0;32m     10\u001b[0m \u001b[38;5;66;03m# Iterating (iterating over rows)\u001b[39;00m\n\u001b[0;32m     11\u001b[0m \u001b[38;5;28;01mfor\u001b[39;00m index, row \u001b[38;5;129;01min\u001b[39;00m df\u001b[38;5;241m.\u001b[39miterrows():\n\u001b[1;32m---> 12\u001b[0m     \u001b[38;5;28mprint\u001b[39m(\u001b[38;5;124mf\u001b[39m\u001b[38;5;124m\"\u001b[39m\u001b[38;5;124mVideo ID: \u001b[39m\u001b[38;5;132;01m{\u001b[39;00m\u001b[43mrow\u001b[49m\u001b[43m[\u001b[49m\u001b[38;5;124;43m'\u001b[39;49m\u001b[38;5;124;43mVideo_ID\u001b[39;49m\u001b[38;5;124;43m'\u001b[39;49m\u001b[43m]\u001b[49m\u001b[38;5;132;01m}\u001b[39;00m\u001b[38;5;124m, Likes: \u001b[39m\u001b[38;5;132;01m{\u001b[39;00mrow[\u001b[38;5;124m'\u001b[39m\u001b[38;5;124mLikes\u001b[39m\u001b[38;5;124m'\u001b[39m]\u001b[38;5;132;01m}\u001b[39;00m\u001b[38;5;124m\"\u001b[39m)\n\u001b[0;32m     14\u001b[0m \u001b[38;5;66;03m# Advanced Pandas Operations\u001b[39;00m\n\u001b[0;32m     15\u001b[0m \u001b[38;5;66;03m# Filtering (videos with more than 100 likes)\u001b[39;00m\n\u001b[0;32m     16\u001b[0m filtered_df \u001b[38;5;241m=\u001b[39m df[df[\u001b[38;5;124m'\u001b[39m\u001b[38;5;124mlikes\u001b[39m\u001b[38;5;124m'\u001b[39m] \u001b[38;5;241m>\u001b[39m \u001b[38;5;241m100\u001b[39m]\n",
      "File \u001b[1;32m~\\AppData\\Roaming\\Python\\Python312\\site-packages\\pandas\\core\\series.py:1121\u001b[0m, in \u001b[0;36mSeries.__getitem__\u001b[1;34m(self, key)\u001b[0m\n\u001b[0;32m   1118\u001b[0m     \u001b[38;5;28;01mreturn\u001b[39;00m \u001b[38;5;28mself\u001b[39m\u001b[38;5;241m.\u001b[39m_values[key]\n\u001b[0;32m   1120\u001b[0m \u001b[38;5;28;01melif\u001b[39;00m key_is_scalar:\n\u001b[1;32m-> 1121\u001b[0m     \u001b[38;5;28;01mreturn\u001b[39;00m \u001b[38;5;28;43mself\u001b[39;49m\u001b[38;5;241;43m.\u001b[39;49m\u001b[43m_get_value\u001b[49m\u001b[43m(\u001b[49m\u001b[43mkey\u001b[49m\u001b[43m)\u001b[49m\n\u001b[0;32m   1123\u001b[0m \u001b[38;5;66;03m# Convert generator to list before going through hashable part\u001b[39;00m\n\u001b[0;32m   1124\u001b[0m \u001b[38;5;66;03m# (We will iterate through the generator there to check for slices)\u001b[39;00m\n\u001b[0;32m   1125\u001b[0m \u001b[38;5;28;01mif\u001b[39;00m is_iterator(key):\n",
      "File \u001b[1;32m~\\AppData\\Roaming\\Python\\Python312\\site-packages\\pandas\\core\\series.py:1237\u001b[0m, in \u001b[0;36mSeries._get_value\u001b[1;34m(self, label, takeable)\u001b[0m\n\u001b[0;32m   1234\u001b[0m     \u001b[38;5;28;01mreturn\u001b[39;00m \u001b[38;5;28mself\u001b[39m\u001b[38;5;241m.\u001b[39m_values[label]\n\u001b[0;32m   1236\u001b[0m \u001b[38;5;66;03m# Similar to Index.get_value, but we do not fall back to positional\u001b[39;00m\n\u001b[1;32m-> 1237\u001b[0m loc \u001b[38;5;241m=\u001b[39m \u001b[38;5;28;43mself\u001b[39;49m\u001b[38;5;241;43m.\u001b[39;49m\u001b[43mindex\u001b[49m\u001b[38;5;241;43m.\u001b[39;49m\u001b[43mget_loc\u001b[49m\u001b[43m(\u001b[49m\u001b[43mlabel\u001b[49m\u001b[43m)\u001b[49m\n\u001b[0;32m   1239\u001b[0m \u001b[38;5;28;01mif\u001b[39;00m is_integer(loc):\n\u001b[0;32m   1240\u001b[0m     \u001b[38;5;28;01mreturn\u001b[39;00m \u001b[38;5;28mself\u001b[39m\u001b[38;5;241m.\u001b[39m_values[loc]\n",
      "File \u001b[1;32m~\\AppData\\Roaming\\Python\\Python312\\site-packages\\pandas\\core\\indexes\\base.py:3812\u001b[0m, in \u001b[0;36mIndex.get_loc\u001b[1;34m(self, key)\u001b[0m\n\u001b[0;32m   3807\u001b[0m     \u001b[38;5;28;01mif\u001b[39;00m \u001b[38;5;28misinstance\u001b[39m(casted_key, \u001b[38;5;28mslice\u001b[39m) \u001b[38;5;129;01mor\u001b[39;00m (\n\u001b[0;32m   3808\u001b[0m         \u001b[38;5;28misinstance\u001b[39m(casted_key, abc\u001b[38;5;241m.\u001b[39mIterable)\n\u001b[0;32m   3809\u001b[0m         \u001b[38;5;129;01mand\u001b[39;00m \u001b[38;5;28many\u001b[39m(\u001b[38;5;28misinstance\u001b[39m(x, \u001b[38;5;28mslice\u001b[39m) \u001b[38;5;28;01mfor\u001b[39;00m x \u001b[38;5;129;01min\u001b[39;00m casted_key)\n\u001b[0;32m   3810\u001b[0m     ):\n\u001b[0;32m   3811\u001b[0m         \u001b[38;5;28;01mraise\u001b[39;00m InvalidIndexError(key)\n\u001b[1;32m-> 3812\u001b[0m     \u001b[38;5;28;01mraise\u001b[39;00m \u001b[38;5;167;01mKeyError\u001b[39;00m(key) \u001b[38;5;28;01mfrom\u001b[39;00m \u001b[38;5;21;01merr\u001b[39;00m\n\u001b[0;32m   3813\u001b[0m \u001b[38;5;28;01mexcept\u001b[39;00m \u001b[38;5;167;01mTypeError\u001b[39;00m:\n\u001b[0;32m   3814\u001b[0m     \u001b[38;5;66;03m# If we have a listlike key, _check_indexing_error will raise\u001b[39;00m\n\u001b[0;32m   3815\u001b[0m     \u001b[38;5;66;03m#  InvalidIndexError. Otherwise we fall through and re-raise\u001b[39;00m\n\u001b[0;32m   3816\u001b[0m     \u001b[38;5;66;03m#  the TypeError.\u001b[39;00m\n\u001b[0;32m   3817\u001b[0m     \u001b[38;5;28mself\u001b[39m\u001b[38;5;241m.\u001b[39m_check_indexing_error(key)\n",
      "\u001b[1;31mKeyError\u001b[0m: 'Video_ID'"
     ]
    }
   ],
   "source": [
    "import pandas as pd\n",
    "\n",
    "# Basic Pandas Operations\n",
    "# Indexing\n",
    "first_row = df.iloc[0]\n",
    "\n",
    "# Slicing\n",
    "sliced_df = df.iloc[10:20]\n",
    "\n",
    "# Iterating (iterating over rows)\n",
    "for index, row in df.iterrows():\n",
    "    print(f\"Video ID: {row['Video_ID']}, Likes: {row['Likes']}\")\n",
    "\n",
    "# Advanced Pandas Operations\n",
    "# Filtering (videos with more than 100 likes)\n",
    "filtered_df = df[df['likes'] > 100]\n",
    "\n",
    "# Sorting (sort by views)\n",
    "sorted_df = df.sort_values(by='views', ascending=False)\n",
    "\n",
    "# Reshaping (pivoting)\n",
    "pivot_df = df.pivot_table(values='engagement_rate', index='category', aggfunc='mean')\n",
    "\n",
    "print(\"Filtered DataFrame:\\n\", filtered_df.head())\n",
    "print(\"Sorted DataFrame:\\n\", sorted_df.head())\n",
    "print(\"Pivot Table:\\n\", pivot_df)\n"
   ]
  },
  {
   "cell_type": "code",
   "execution_count": null,
   "metadata": {},
   "outputs": [],
   "source": []
  }
 ],
 "metadata": {
  "kernelspec": {
   "display_name": "Python 3",
   "language": "python",
   "name": "python3"
  },
  "language_info": {
   "codemirror_mode": {
    "name": "ipython",
    "version": 3
   },
   "file_extension": ".py",
   "mimetype": "text/x-python",
   "name": "python",
   "nbconvert_exporter": "python",
   "pygments_lexer": "ipython3",
   "version": "3.12.3"
  }
 },
 "nbformat": 4,
 "nbformat_minor": 2
}
